{
 "cells": [
  {
   "cell_type": "code",
   "execution_count": 3,
   "metadata": {},
   "outputs": [
    {
     "name": "stdout",
     "output_type": "stream",
     "text": [
      "Fine tuning mode\n",
      "Using CPU\n",
      "\n",
      " Retrieving data from: c:\\Users\\erikw\\Desktop\\ExjobbKod\\data\n",
      "Loading data...\n",
      "Data correctly loaded, 6483 samples found\n",
      "Creating vocabulary...\n",
      "Vocabulary created with number of elements: 475\n",
      "Number of antibiotics: 81\n",
      "Reducing samples to 1000\n",
      "Datasets has been created with 800 samples in the training set and 200 samples in the validation set\n",
      "Creating model...\n",
      "Model successfully loaded\n",
      "---------------------------------------------------------\n",
      "Starting training...\n"
     ]
    },
    {
     "data": {
      "text/html": [
       "Finishing last run (ID:ls4kjebm) before initializing another..."
      ],
      "text/plain": [
       "<IPython.core.display.HTML object>"
      ]
     },
     "metadata": {},
     "output_type": "display_data"
    },
    {
     "data": {
      "text/html": [
       "<style>\n",
       "    table.wandb td:nth-child(1) { padding: 0 10px; text-align: left ; width: auto;} td:nth-child(2) {text-align: left ; width: 100%}\n",
       "    .wandb-row { display: flex; flex-direction: row; flex-wrap: wrap; justify-content: flex-start; width: 100% }\n",
       "    .wandb-col { display: flex; flex-direction: column; flex-basis: 100%; flex: 1; padding: 10px; }\n",
       "    </style>\n",
       "<div class=\"wandb-row\"><div class=\"wandb-col\"><h3>Run history:</h3><br/><table class=\"wandb\"><tr><td>Accuracies/val_acc</td><td>▁▁▃▄▄▄▆▆▇█</td></tr><tr><td>Losses/train_loss</td><td>█▆▅▄▄▃▂▂▂▁</td></tr><tr><td>Losses/val_loss</td><td>█▆▅▄▄▃▂▂▁▁</td></tr><tr><td>epoch</td><td>▁▂▃▃▄▅▆▆▇█</td></tr></table><br/></div><div class=\"wandb-col\"><h3>Run summary:</h3><br/><table class=\"wandb\"><tr><td>Accuracies/val_acc</td><td>0.36527</td></tr><tr><td>Losses/train_loss</td><td>3.46872</td></tr><tr><td>Losses/val_loss</td><td>3.40149</td></tr><tr><td>epoch</td><td>10</td></tr></table><br/></div></div>"
      ],
      "text/plain": [
       "<IPython.core.display.HTML object>"
      ]
     },
     "metadata": {},
     "output_type": "display_data"
    },
    {
     "data": {
      "text/html": [
       " View run <strong style=\"color:#cdcd00\">Main_ReducedSamples_ModePT</strong> at: <a href='https://wandb.ai/strompfel/TestingMain/runs/ls4kjebm' target=\"_blank\">https://wandb.ai/strompfel/TestingMain/runs/ls4kjebm</a><br/>Synced 6 W&B file(s), 0 media file(s), 0 artifact file(s) and 0 other file(s)"
      ],
      "text/plain": [
       "<IPython.core.display.HTML object>"
      ]
     },
     "metadata": {},
     "output_type": "display_data"
    },
    {
     "data": {
      "text/html": [
       "Find logs at: <code>.\\wandb\\run-20240226_142842-ls4kjebm\\logs</code>"
      ],
      "text/plain": [
       "<IPython.core.display.HTML object>"
      ]
     },
     "metadata": {},
     "output_type": "display_data"
    },
    {
     "data": {
      "text/html": [
       "Successfully finished last run (ID:ls4kjebm). Initializing new run:<br/>"
      ],
      "text/plain": [
       "<IPython.core.display.HTML object>"
      ]
     },
     "metadata": {},
     "output_type": "display_data"
    },
    {
     "data": {
      "text/html": [
       "Tracking run with wandb version 0.16.3"
      ],
      "text/plain": [
       "<IPython.core.display.HTML object>"
      ]
     },
     "metadata": {},
     "output_type": "display_data"
    },
    {
     "data": {
      "text/html": [
       "Run data is saved locally in <code>c:\\Users\\erikw\\Desktop\\ExjobbKod\\base\\wandb\\run-20240226_143012-a8cqs75n</code>"
      ],
      "text/plain": [
       "<IPython.core.display.HTML object>"
      ]
     },
     "metadata": {},
     "output_type": "display_data"
    },
    {
     "data": {
      "text/html": [
       "Syncing run <strong><a href='https://wandb.ai/strompfel/TestingMain/runs/a8cqs75n' target=\"_blank\">Main_ReducedSamples_ModePT</a></strong> to <a href='https://wandb.ai/strompfel/TestingMain' target=\"_blank\">Weights & Biases</a> (<a href='https://wandb.me/run' target=\"_blank\">docs</a>)<br/>"
      ],
      "text/plain": [
       "<IPython.core.display.HTML object>"
      ]
     },
     "metadata": {},
     "output_type": "display_data"
    },
    {
     "data": {
      "text/html": [
       " View project at <a href='https://wandb.ai/strompfel/TestingMain' target=\"_blank\">https://wandb.ai/strompfel/TestingMain</a>"
      ],
      "text/plain": [
       "<IPython.core.display.HTML object>"
      ]
     },
     "metadata": {},
     "output_type": "display_data"
    },
    {
     "data": {
      "text/html": [
       " View run at <a href='https://wandb.ai/strompfel/TestingMain/runs/a8cqs75n' target=\"_blank\">https://wandb.ai/strompfel/TestingMain/runs/a8cqs75n</a>"
      ],
      "text/plain": [
       "<IPython.core.display.HTML object>"
      ]
     },
     "metadata": {},
     "output_type": "display_data"
    },
    {
     "name": "stdout",
     "output_type": "stream",
     "text": [
      "Epoch 1/10\n",
      "Epoch completed in 0.1 min\n",
      "Evaluating on validation set...\n",
      "Elapsed time: 00:00:08\n",
      "Epoch 2/10\n",
      "Epoch completed in 0.1 min\n",
      "Evaluating on validation set...\n",
      "Elapsed time: 00:00:14\n",
      "Epoch 3/10\n",
      "Epoch completed in 0.1 min\n",
      "Evaluating on validation set...\n",
      "Elapsed time: 00:00:21\n",
      "Epoch 4/10\n",
      "Epoch completed in 0.1 min\n",
      "Evaluating on validation set...\n",
      "Elapsed time: 00:00:28\n",
      "Epoch 5/10\n",
      "Epoch completed in 0.1 min\n",
      "Evaluating on validation set...\n",
      "Elapsed time: 00:00:34\n",
      "Epoch 6/10\n",
      "Epoch completed in 0.1 min\n",
      "Evaluating on validation set...\n",
      "Elapsed time: 00:00:41\n",
      "Epoch 7/10\n",
      "Epoch completed in 0.1 min\n",
      "Evaluating on validation set...\n",
      "Elapsed time: 00:00:47\n",
      "Epoch 8/10\n",
      "Epoch completed in 0.1 min\n",
      "Evaluating on validation set...\n",
      "Elapsed time: 00:00:54\n",
      "Epoch 9/10\n",
      "Epoch completed in 0.1 min\n",
      "Evaluating on validation set...\n",
      "Elapsed time: 00:01:00\n",
      "Epoch 10/10\n",
      "Epoch completed in 0.1 min\n",
      "Evaluating on validation set...\n",
      "Elapsed time: 00:01:08\n",
      "-=Training completed=-\n",
      "---------------------------------------------------------\n",
      "Exporting results...\n",
      "Results saved to c:\\Users\\erikw\\Desktop\\ExjobbKod\\results/2024-02-26runModeTrue.pkl\n"
     ]
    }
   ],
   "source": [
    "#Relevant packages\n",
    "import numpy as np\n",
    "import pandas as pd\n",
    "import torch \n",
    "import torch.nn as nn\n",
    "import torch.optim as optim\n",
    "import torch.nn.functional as F\n",
    "from torch.utils.data import DataLoader, Dataset\n",
    "import torchtext\n",
    "import torchtext.vocab as vocab\n",
    "import os\n",
    "from datetime import date\n",
    "today = date.today()\n",
    "\n",
    "from misc import get_split_indices\n",
    "from misc import export_results\n",
    "from data_preprocessing import data_loader\n",
    "from build_vocabulary import vocab_geno\n",
    "from build_vocabulary import vocab_pheno\n",
    "from create_dataset import NCBIDataset\n",
    "from bert_builder import BERT_pt\n",
    "from bert_builder import BERT_ft\n",
    "from trainer import BertTrainer_ft\n",
    "from trainer import BertTrainer_pt\n",
    "from misc import get_paths\n",
    "\n",
    "####################################################\n",
    "#Data directory\n",
    "data_dir, ab_dir, save_directory = get_paths()\n",
    "\n",
    "#Hyperparameters\n",
    "threshold_year = 1970\n",
    "max_length = [51,81]\n",
    "mask_prob = 0.15\n",
    "drop_prob = 0.2\n",
    "limit_data = True\n",
    "reduced_samples = 1000 #Ta bort denna senare\n",
    "\n",
    "dim_emb = 128\n",
    "dim_hidden = 128\n",
    "attention_heads = 8 \n",
    "\n",
    "num_encoders = 2\n",
    "\n",
    "epochs = 10\n",
    "batch_size = 32\n",
    "lr = 0.0001\n",
    "stop_patience = 3\n",
    "\n",
    "# WandB settings\n",
    "wandb_mode = True \n",
    "wandb_project = \"TestingMain\"\n",
    "wandb_run_name = \"Main_ReducedSamples_ModePT\"\n",
    "\n",
    "device = torch.device(\"cuda\" if torch.cuda.is_available() else \"cpu\")\n",
    "####################################################\n",
    "\n",
    "#set mode for run, True for fine tuning, False for pretraining \n",
    "mode_ft = True\n",
    "if mode_ft:\n",
    "    print(f\"Fine tuning mode\")\n",
    "    include_pheno = True\n",
    "    export_model = False\n",
    "else:\n",
    "    print(f\"Pretraining mode\")\n",
    "    include_pheno = False\n",
    "    export_model = True\n",
    "\n",
    "if device.type == \"cuda\":\n",
    "    print(f\"Using GPU: {torch.cuda.get_device_name(0)}\")\n",
    "    torch.cuda.empty_cache()\n",
    "else:\n",
    "    print(\"Using CPU\")  \n",
    "    \n",
    "print(f\"\\n Retrieving data from: {data_dir}\")\n",
    "print(\"Loading data...\")\n",
    "NCBI,ab_df = data_loader(include_pheno,threshold_year,data_dir,ab_dir)\n",
    "print(f\"Data correctly loaded, {len(NCBI)} samples found\")\n",
    "print(\"Creating vocabulary...\")\n",
    "vocabulary_geno = vocab_geno(NCBI, include_pheno)\n",
    "vocabulary_pheno = vocab_pheno(ab_df)\n",
    "\n",
    "print(f\"Vocabulary created with number of elements:\",len(vocabulary_geno))\n",
    "if include_pheno:\n",
    "    print(f\"Number of antibiotics:\",len(vocabulary_pheno))\n",
    "\n",
    "if limit_data:\n",
    "    print(f\"Reducing samples to {reduced_samples}\")\n",
    "    NCBI = NCBI.head(reduced_samples)\n",
    "\n",
    "train_indices, val_indices = get_split_indices(len(NCBI), 0.2)\n",
    "train_set = NCBIDataset(NCBI.iloc[train_indices], vocabulary_geno, vocabulary_pheno, max_length, mask_prob,include_pheno)\n",
    "val_set = NCBIDataset(NCBI.iloc[val_indices], vocabulary_geno, vocabulary_pheno, max_length, mask_prob,include_pheno)\n",
    "print(f\"Datasets has been created with {len(train_set)} samples in the training set and {len(val_set)} samples in the validation set\")\n",
    "\n",
    "print(f\"Creating model...\")\n",
    "if mode_ft:\n",
    "    model = BERT_ft(vocab_size=len(vocabulary_geno), dim_embedding = dim_emb, dim_hidden=dim_hidden, attention_heads=8, num_encoders=num_encoders, dropout_prob=drop_prob, num_ab=len(vocabulary_pheno), device=device)\n",
    "else:\n",
    "    model = BERT_pt(vocab_size=len(vocabulary_geno), dim_embedding = dim_emb, attention_heads=attention_heads, num_encoders=2, dropout_prob=drop_prob)\n",
    "print(f\"Model successfully loaded\")\n",
    "print(f\"---------------------------------------------------------\")\n",
    "print(f\"Starting training...\")\n",
    "if mode_ft:\n",
    "    trainer = BertTrainer_ft(model, train_set, val_set, epochs, batch_size, lr, device, stop_patience, wandb_mode, wandb_project, wandb_run_name)\n",
    "else: \n",
    "    trainer = BertTrainer_pt(model, train_set, val_set, epochs, batch_size, lr, device, stop_patience, wandb_mode, wandb_project, wandb_run_name)\n",
    "\n",
    "results = trainer()\n",
    "print(f\"---------------------------------------------------------\")\n",
    "if export_model:\n",
    "    print(f\"Exporting model...\")\n",
    "    export_model_label = str(today)+\"model.pkl\"\n",
    "    trainer._save_model(save_directory+\"/\"+export_model_label)\n",
    "print(\"Exporting results...\")\n",
    "export_results_label = str(today)+\"run\"+\"Mode\"+str(mode_ft)+\".pkl\"\n",
    "export_results(results, save_directory+\"/\"+export_results_label)\n",
    "\n"
   ]
  }
 ],
 "metadata": {
  "kernelspec": {
   "display_name": "dml",
   "language": "python",
   "name": "python3"
  },
  "language_info": {
   "codemirror_mode": {
    "name": "ipython",
    "version": 3
   },
   "file_extension": ".py",
   "mimetype": "text/x-python",
   "name": "python",
   "nbconvert_exporter": "python",
   "pygments_lexer": "ipython3",
   "version": "3.9.17"
  }
 },
 "nbformat": 4,
 "nbformat_minor": 2
}
